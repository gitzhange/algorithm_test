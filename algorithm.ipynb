{
 "cells": [
  {
   "cell_type": "markdown",
   "metadata": {},
   "source": [
    "## 剑指offer-python版 【29题：最小的k个数】"
   ]
  },
  {
   "cell_type": "code",
   "execution_count": 22,
   "metadata": {},
   "outputs": [
    {
     "name": "stdout",
     "output_type": "stream",
     "text": [
      "[1, 2, 3]\n"
     ]
    }
   ],
   "source": [
    "# 剑指offer：最小的k个数---【方法1：快速排序】\n",
    "class Solution:\n",
    "    def GetLeastNumbers_Solution(self, tinput, k):\n",
    "        if len(tinput) < k:\n",
    "            return []\n",
    "        return self.quick_sort(tinput)[:k]\n",
    "    \n",
    "    # 快速排序【重要的排序方法】\n",
    "    def quick_sort(self, list):\n",
    "        if len(list) < 2:\n",
    "            return list[:]\n",
    "        left = (self.quick_sort([i for i in list[1:] if i <= list[0]]))\n",
    "        right = (self.quick_sort([i for i in list[1:] if i > list[0]]))\n",
    "        return left + [list[0]] + right\n",
    "    \n",
    "s = Solution()\n",
    "print(s.GetLeastNumbers_Solution([4,5,1,2,8,3],3))"
   ]
  },
  {
   "cell_type": "code",
   "execution_count": 18,
   "metadata": {},
   "outputs": [
    {
     "name": "stdout",
     "output_type": "stream",
     "text": [
      "[1, 2, 3]\n"
     ]
    }
   ],
   "source": [
    "# 剑指offer：最小的k个数---【方法2：归并排序】\n",
    "class Solution:\n",
    "    def GetLeastNumbers_Solution(self, tinput, k):\n",
    "        if len(tinput) < k:\n",
    "            return []\n",
    "        return self.merge_sort(tinput)[:k]\n",
    "    \n",
    "    # 归并排序【重要的排序方法】\n",
    "    def merge_sort(self, list):\n",
    "        if len(list) < 2:\n",
    "            return list[:]\n",
    "        left = self.merge_sort(list[:len(list) // 2])\n",
    "        right = self.merge_sort(list[len(list) // 2:])\n",
    "        return self.merge(left, right)\n",
    "    def merge(self, left, right):\n",
    "        res = []\n",
    "        while left and right:\n",
    "            res.append(left.pop(0)) if left[0] < right[0] else res.append(right.pop(0))\n",
    "        res += left if not right else right\n",
    "        return res\n",
    "\n",
    "s = Solution()\n",
    "print(s.GetLeastNumbers_Solution([4,5,1,2,8,3],3))"
   ]
  },
  {
   "cell_type": "code",
   "execution_count": 16,
   "metadata": {
    "scrolled": true
   },
   "outputs": [
    {
     "name": "stdout",
     "output_type": "stream",
     "text": [
      "[1, 2, 3]\n"
     ]
    }
   ],
   "source": [
    "# 剑指offer：最小的k个数---【方法3：堆 实现】\n",
    "class Solution:\n",
    "    def GetLeastNumbers_Solution(self, tinput, k):\n",
    "        if len(tinput) < k or k == 0:\n",
    "            return []\n",
    "        heap = tinput[:k]\n",
    "        self.max_heap(heap)\n",
    "        for i in range(k,len(tinput)):\n",
    "            if tinput[i] < heap[0]:\n",
    "                heap[0] = tinput[i]\n",
    "                self.heapify(heap,0)\n",
    "        return sorted(heap)\n",
    "    # 构建大顶堆\n",
    "    def max_heap(self,arr):\n",
    "        for i in range(len(arr)//2-1,-1,-1):\n",
    "            self.heapify(arr,i)\n",
    "    # 大顶堆的堆调整\n",
    "    def heapify(self,arr,i):\n",
    "        left_child = 2*i+1\n",
    "        right_child = 2*i+2\n",
    "        max = i\n",
    "        if left_child < len(arr) and arr[left_child] > arr[max]:\n",
    "            max = left_child\n",
    "        if right_child < len(arr) and arr[right_child] > max:\n",
    "            max = right_child\n",
    "        if max != i:\n",
    "            arr[i],arr[max] = arr[max],arr[i]\n",
    "            self.heapify(arr,max)\n",
    "            \n",
    "s = Solution()\n",
    "print(s.GetLeastNumbers_Solution([4,5,1,2,8,3],3))"
   ]
  },
  {
   "cell_type": "code",
   "execution_count": 21,
   "metadata": {},
   "outputs": [
    {
     "name": "stdout",
     "output_type": "stream",
     "text": [
      "[1, 2, 3]\n"
     ]
    }
   ],
   "source": [
    "# 剑指offer：最小的k个数---【方法4：堆 模块】\n",
    "# 用模块来创建堆，最大堆的 解法\n",
    "'''\n",
    "python中最大堆如何实现呢？我们可以借助实现了最小堆的heapq库，因为在一个数组中，每个数取反，则最大数变成了最小数，\n",
    "整个数字的顺序发生了变化，所以可以给数组的每个数字取反，然后借助最小堆，最后返回结果的时候再取反就可以了\n",
    "\n",
    "用Python中的heapq模块用来建立“堆”的数据结构。\n",
    "heapq.heappush(res, -i) 意为：向堆 res 中添加一个元素 -i\n",
    "heapq.heappushpop(res, -i)意为：将元素 -i 与堆顶的元素比较。如果该元素值大于堆顶元素，则将该元素与堆顶元素替换。否则不改变堆元素。\n",
    "'''\n",
    "import heapq  # 利用heapq模块，来实现堆的操作\n",
    "class Solution:\n",
    "\tdef GetLeastNumbers_Solution(self, tinput, k):\n",
    "\t    if len(tinput) < k:\n",
    "\t        return []\n",
    "\t    res = []\n",
    "\t    for i in tinput:\n",
    "\t        heapq.heappush(res, -i) if len(res) < k else heapq.heappushpop(res, -i)\n",
    "\t    return sorted(list(map(lambda x: -x, res)))\n",
    "s = Solution()\n",
    "print(s.GetLeastNumbers_Solution([4,5,1,2,8,3],3))"
   ]
  },
  {
   "cell_type": "code",
   "execution_count": 23,
   "metadata": {},
   "outputs": [
    {
     "name": "stdout",
     "output_type": "stream",
     "text": [
      "[1, 2, 3]\n"
     ]
    }
   ],
   "source": [
    "# 剑指offer：最小的k个数---【方法5：堆 模块】\n",
    "# 使用 堆模块的相关函数\n",
    "'''\n",
    "heapq.nlargest(n, iterable, key=None) 返回最大的n个元素（Top-K问题）\n",
    "heapq.nsmallest(n, iterable, key=None) 返回最小的n个元素（Top-K问题）\n",
    "'''\n",
    "import heapq  # 利用heapq模块，来实现堆的操作\n",
    "class Solution:\n",
    "    def GetLeastNumbers_Solution(self, tinput, k):\n",
    "        if len(tinput) < k:\n",
    "            return []\n",
    "        return heapq.nsmallest(k, tinput)\n",
    "s = Solution()\n",
    "print(s.GetLeastNumbers_Solution([4,5,1,2,8,3],3))"
   ]
  },
  {
   "cell_type": "markdown",
   "metadata": {},
   "source": [
    "## 剑指offer-python版 【33题：丑数】"
   ]
  },
  {
   "cell_type": "code",
   "execution_count": 14,
   "metadata": {},
   "outputs": [
    {
     "name": "stdout",
     "output_type": "stream",
     "text": [
      "8\n"
     ]
    }
   ],
   "source": [
    "# -*- coding:utf-8 -*-\n",
    "class Solution:\n",
    "    def GetUglyNumber_Solution(self, index):\n",
    "        if index<1:\n",
    "            return None\n",
    "        res = [1]\n",
    "        index_2 = 0\n",
    "        index_3 = 0\n",
    "        index_5 = 0\n",
    "        for i in range(index-1):\n",
    "            mini = min(res[index_2]*2,res[index_3]*3,res[index_5]*5)\n",
    "            res.append(mini)\n",
    "            if mini == res[index_2]*2:\n",
    "                index_2 += 1\n",
    "            if mini == res[index_3]*3:\n",
    "                index_3 += 1\n",
    "            if mini == res[index_5]*5:\n",
    "                index_5 += 1\n",
    "        return res[-1]\n",
    "    \n",
    "s = Solution()\n",
    "print(s.GetUglyNumber_Solution(7))"
   ]
  },
  {
   "cell_type": "code",
   "execution_count": null,
   "metadata": {},
   "outputs": [],
   "source": []
  }
 ],
 "metadata": {
  "kernelspec": {
   "display_name": "Python 3",
   "language": "python",
   "name": "python3"
  },
  "language_info": {
   "codemirror_mode": {
    "name": "ipython",
    "version": 3
   },
   "file_extension": ".py",
   "mimetype": "text/x-python",
   "name": "python",
   "nbconvert_exporter": "python",
   "pygments_lexer": "ipython3",
   "version": "3.6.7"
  }
 },
 "nbformat": 4,
 "nbformat_minor": 2
}
