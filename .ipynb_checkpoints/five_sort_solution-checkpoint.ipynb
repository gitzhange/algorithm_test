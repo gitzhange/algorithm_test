{
 "cells": [
  {
   "cell_type": "markdown",
   "metadata": {},
   "source": [
    "## 常用的5种排序算法"
   ]
  },
  {
   "cell_type": "code",
   "execution_count": 22,
   "metadata": {},
   "outputs": [
    {
     "name": "stdout",
     "output_type": "stream",
     "text": [
      "[1, 3, 5, 6, 7, 9]\n"
     ]
    }
   ],
   "source": [
    "# 1.冒泡排序\n",
    "class Solution:\n",
    "    def bubble_sort(self,arr):\n",
    "        for i in range(1,len(arr)):\n",
    "            for j in range(0,len(arr)-i):\n",
    "                if arr[j]>arr[j+1]:\n",
    "                    arr[j],arr[j+1] = arr[j+1],arr[j]\n",
    "        return arr\n",
    "\n",
    "s = Solution() # 注意此处一定要加上()\n",
    "print(s.bubble_sort([5,9,3,7,1,6]))"
   ]
  },
  {
   "cell_type": "code",
   "execution_count": 26,
   "metadata": {},
   "outputs": [
    {
     "name": "stdout",
     "output_type": "stream",
     "text": [
      "[1, 3, 5, 6, 7, 9]\n"
     ]
    }
   ],
   "source": [
    "# 2.选择排序\n",
    "class Solution:\n",
    "    def selection_sort(self,arr):\n",
    "        for i in range(len(arr)-1):\n",
    "            minindex = i\n",
    "            for j in range(i+1,len(arr)):\n",
    "                if arr[j]<arr[minindex]:\n",
    "                    minindex = j\n",
    "            if minindex != i:\n",
    "                arr[i],arr[minindex] = arr[minindex],arr[i]\n",
    "        return arr\n",
    "\n",
    "s = Solution() # 注意此处一定要加上()\n",
    "print(s.selection_sort([5,9,3,7,1,6]))"
   ]
  },
  {
   "cell_type": "code",
   "execution_count": 10,
   "metadata": {},
   "outputs": [
    {
     "name": "stdout",
     "output_type": "stream",
     "text": [
      "[1, 3, 5, 6, 7, 9]\n"
     ]
    }
   ],
   "source": [
    "# 3.quick_sort\n",
    "class Solution:\n",
    "    def quick_sort(self,arr):\n",
    "        if len(arr)<2:\n",
    "            return arr\n",
    "        left = self.quick_sort([i for i in arr[1:] if i <= arr[0]])\n",
    "        right = self.quick_sort([i for i in arr[1:] if i > arr[0]])\n",
    "        return left + [arr[0]]+ right\n",
    "\n",
    "s = Solution() # 注意此处一定要加上()\n",
    "print(s.quick_sort([5,9,3,7,1,6]))"
   ]
  },
  {
   "cell_type": "code",
   "execution_count": 20,
   "metadata": {},
   "outputs": [
    {
     "name": "stdout",
     "output_type": "stream",
     "text": [
      "[1, 3, 5, 6, 7, 9]\n"
     ]
    }
   ],
   "source": [
    "# 4.merge_sort\n",
    "class Solution:\n",
    "    def merge_sort(self,arr):\n",
    "        if len(arr)<2:\n",
    "            return arr\n",
    "        left = self.merge_sort(arr[:len(arr)//2])\n",
    "        right = self.merge_sort(arr[len(arr)//2:])\n",
    "        return self.merge(left,right)\n",
    "    \n",
    "    def merge(self,left,right):\n",
    "        li = []\n",
    "        while left and right:\n",
    "            li.append(left.pop(0)) if left[0]<=right[0] else li.append(right.pop(0))\n",
    "#         li += left if left else li += right 此行语法错误，if else 语句执行完之后 才会赋值给左边\n",
    "        li += left if left else right\n",
    "        return li\n",
    "        \n",
    "s = Solution() # 注意此处一定要加上()\n",
    "print(s.merge_sort([5,9,3,7,1,6]))"
   ]
  },
  {
   "cell_type": "code",
   "execution_count": 27,
   "metadata": {},
   "outputs": [
    {
     "name": "stdout",
     "output_type": "stream",
     "text": [
      "[1, 3, 5, 6, 7, 9]\n"
     ]
    }
   ],
   "source": [
    "# 5.堆排序\n",
    "class Solution:\n",
    "\n",
    "    def heapify(self,arr,i,length):\n",
    "        left_child = 2*i+1\n",
    "        right_child = 2*i+2\n",
    "        maxindex = i\n",
    "        if left_child<length and arr[left_child]>arr[maxindex]:\n",
    "            maxindex = left_child\n",
    "        if right_child<length and arr[right_child]>arr[maxindex]:\n",
    "            maxindex = right_child\n",
    "        if maxindex != i:\n",
    "            arr[i],arr[maxindex] = arr[maxindex],arr[i]\n",
    "            self.heapify(arr,maxindex,length)\n",
    "            \n",
    "    def max_heap(self,arr):\n",
    "        for i in range(len(arr)//2,-1,-1):\n",
    "            self.heapify(arr,i,len(arr))\n",
    "    \n",
    "    def heap_sort(self,arr):\n",
    "        self.max_heap(arr)\n",
    "        for i in range(len(arr)-1,-1,-1):\n",
    "            arr[0],arr[i] = arr[i],arr[0]\n",
    "            self.heapify(arr,0,i)  # 这里每次heapify的长度i都减1\n",
    "        return arr\n",
    "              \n",
    "s = Solution() # 注意此处一定要加上()\n",
    "print(s.heap_sort([5,9,3,7,1,6]))"
   ]
  },
  {
   "cell_type": "code",
   "execution_count": null,
   "metadata": {},
   "outputs": [],
   "source": []
  }
 ],
 "metadata": {
  "kernelspec": {
   "display_name": "Python 3",
   "language": "python",
   "name": "python3"
  },
  "language_info": {
   "codemirror_mode": {
    "name": "ipython",
    "version": 3
   },
   "file_extension": ".py",
   "mimetype": "text/x-python",
   "name": "python",
   "nbconvert_exporter": "python",
   "pygments_lexer": "ipython3",
   "version": "3.6.7"
  }
 },
 "nbformat": 4,
 "nbformat_minor": 2
}
